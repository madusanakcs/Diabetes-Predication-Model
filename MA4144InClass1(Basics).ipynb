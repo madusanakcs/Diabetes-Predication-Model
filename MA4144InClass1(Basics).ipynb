{
 "cells": [
  {
   "cell_type": "markdown",
   "id": "ea4b7cc4-4743-4555-ba9d-31856132f962",
   "metadata": {
    "deletable": false,
    "editable": false,
    "slideshow": {
     "slide_type": ""
    },
    "tags": []
   },
   "source": [
    "# <center>ML Basics </center>\n",
    "## <center>Inclass Project 1 - MA4144</center>\n",
    "\n",
    "This project contains 12 tasks/questions to be completed.\n",
    "\n",
    "After finishing project run the entire notebook once and **save the notebook as a pdf** (File menu -> Save and Export Notebook As -> PDF). You are **required to upload this PDF on moodle**."
   ]
  },
  {
   "cell_type": "markdown",
   "id": "fc927cf7-fbea-4684-b942-8a9405400822",
   "metadata": {
    "deletable": false,
    "editable": false
   },
   "source": [
    "Use this cell to use any include any imports"
   ]
  },
  {
   "cell_type": "code",
   "execution_count": 50,
   "id": "61792cd0-155b-436c-8ebe-82933548d92d",
   "metadata": {},
   "outputs": [],
   "source": [
    "import pandas as pd\n",
    "import numpy as np\n",
    "import seaborn as sns\n",
    "import matplotlib.pyplot as plt"
   ]
  },
  {
   "cell_type": "markdown",
   "id": "a3c3f445-ab74-4697-86b9-8ffec429d923",
   "metadata": {
    "deletable": false,
    "editable": false
   },
   "source": [
    "## Section 1\n",
    "\n",
    "In this section we will analyse a dataset to look into its statistical propeties. For this we will use the DiabetesTrain.csv dataset. Each row corresponds to a single patient. The first 8 columns correspond to the features of the patients that may help predict risk of diabetes. The outcome column is a binary column represting the risk of diabetes, outcome 1 : high risk of diabetes and outcome 0 little to no risk of diabetes."
   ]
  },
  {
   "cell_type": "markdown",
   "id": "4a950e4d-c397-47a9-b041-46ba72d5d95c",
   "metadata": {
    "deletable": false,
    "editable": false
   },
   "source": [
    "**Q1.** Read the dataset into a pandas dataframe called diabetesData. "
   ]
  },
  {
   "cell_type": "code",
   "execution_count": 51,
   "id": "31a4ad00-0298-4de0-b952-de1ac4990e7d",
   "metadata": {
    "scrolled": true
   },
   "outputs": [
    {
     "name": "stdout",
     "output_type": "stream",
     "text": [
      "   Pregnancies  Glucose  BloodPressure  SkinThickness  Insulin   BMI  \\\n",
      "0            1       95             74             21       73  25.9   \n",
      "1            1       95             82             25      180  35.0   \n",
      "2            1       90             68              8        0  24.5   \n",
      "3            7      195             70             33      145  25.1   \n",
      "4            0      180             66             39        0  42.0   \n",
      "\n",
      "   DiabetesPedigreeFunction  Age  Outcome  \n",
      "0                     0.673   36        0  \n",
      "1                     0.233   43        1  \n",
      "2                     1.138   36        0  \n",
      "3                     0.163   55        1  \n",
      "4                     1.893   25        1  \n",
      "   Pregnancies  Glucose  BloodPressure  SkinThickness  Insulin   BMI  \\\n",
      "0            1       89             66             23       94  28.1   \n",
      "1            3       78             50             32       88  31.0   \n",
      "2            7      147             76              0        0  39.4   \n",
      "3            1       97             66             15      140  23.2   \n",
      "4            4      111             72             47      207  37.1   \n",
      "\n",
      "   DiabetesPedigreeFunction  Age  \n",
      "0                     0.167   21  \n",
      "1                     0.248   26  \n",
      "2                     0.257   43  \n",
      "3                     0.487   22  \n",
      "4                     1.390   56  \n"
     ]
    }
   ],
   "source": [
    "#TODO\n",
    "\n",
    "diabetesData = None\n",
    "\n",
    "# Load the diabetes dataset\n",
    "DiabetesDataTrain = pd.read_csv('DiabetesTrain.csv')\n",
    "DiabetesDataTest = pd.read_csv('DiabetesTest.csv')\n",
    "\n",
    "#show the first 5 rows of the training data\n",
    "print(DiabetesDataTrain.head())\n",
    "print(DiabetesDataTest.head())"
   ]
  },
  {
   "cell_type": "markdown",
   "id": "da24345f-cb2b-437b-af61-9d0067fd56af",
   "metadata": {
    "deletable": false,
    "editable": false
   },
   "source": [
    "**Q2.** Let us define the following events.\n",
    "\n",
    "A = Patient has BMI less than 25\n",
    "\n",
    "B = Patient has Glucose level greater than 100\n",
    "\n",
    "C = Patient has had more than 2 pregnancies\n",
    "\n",
    "D = Patient has high risk of diabetes\n",
    "\n",
    "Based on the above definitions determine the following probabilities. Pandas dataframe inbuilt functions such as count, group by, would be useful for this task."
   ]
  },
  {
   "cell_type": "code",
   "execution_count": 52,
   "id": "edf30e89",
   "metadata": {},
   "outputs": [
    {
     "name": "stdout",
     "output_type": "stream",
     "text": [
      "P(A): 0.1479\n",
      "P(B): 0.7368\n",
      "P(C): 0.5388\n",
      "P(D): 0.3784\n",
      "P(A | D): 0.0199\n",
      "P(B | D): 0.9404\n",
      "P(C | D): 0.6689\n",
      "P(A and B): 0.0827\n",
      "P(A and C): 0.0652\n",
      "P(B and C): 0.4311\n",
      "P(A and D): 0.0075\n",
      "P(B and D): 0.3559\n",
      "P(C and D): 0.2531\n"
     ]
    }
   ],
   "source": [
    "\n",
    "\n",
    "# Define conditions for events\n",
    "A = (DiabetesDataTrain['BMI'] < 25).sum()\n",
    "B = (DiabetesDataTrain['Glucose'] > 100).sum()\n",
    "C = (DiabetesDataTrain['Pregnancies'] > 2).sum()\n",
    "D = (DiabetesDataTrain['Outcome'] == 1).sum()\n",
    "total = len(DiabetesDataTrain)\n",
    "\n",
    "# Compute probabilities\n",
    "P_A = A / total\n",
    "P_B = B / total\n",
    "P_C = C / total\n",
    "P_D = D / total\n",
    "\n",
    "# Compute conditional probabilities correctly\n",
    "P_A_given_D = ((DiabetesDataTrain['BMI'] < 25) & (DiabetesDataTrain['Outcome'] == 1)).sum() / D\n",
    "P_B_given_D = ((DiabetesDataTrain['Glucose'] > 100) & (DiabetesDataTrain['Outcome'] == 1)).sum() / D\n",
    "P_C_given_D = ((DiabetesDataTrain['Pregnancies'] > 2) & (DiabetesDataTrain['Outcome'] == 1)).sum() / D\n",
    "\n",
    "# Compute joint probabilities\n",
    "P_A_and_B = ((DiabetesDataTrain['BMI'] < 25) & (DiabetesDataTrain['Glucose'] > 100)).sum() / total\n",
    "P_A_and_C = ((DiabetesDataTrain['BMI'] < 25) & (DiabetesDataTrain['Pregnancies'] > 2)).sum() / total\n",
    "P_B_and_C = ((DiabetesDataTrain['Glucose'] > 100) & (DiabetesDataTrain['Pregnancies'] > 2)).sum() / total\n",
    "P_A_and_D = ((DiabetesDataTrain['BMI'] < 25) & (DiabetesDataTrain['Outcome'] == 1)).sum() / total\n",
    "P_B_and_D = ((DiabetesDataTrain['Glucose'] > 100) & (DiabetesDataTrain['Outcome'] == 1)).sum() / total\n",
    "P_C_and_D = ((DiabetesDataTrain['Pregnancies'] > 2) & (DiabetesDataTrain['Outcome'] == 1)).sum() / total\n",
    "\n",
    "# Print results\n",
    "print(f\"P(A): {P_A:.4f}\")\n",
    "print(f\"P(B): {P_B:.4f}\")\n",
    "print(f\"P(C): {P_C:.4f}\")\n",
    "print(f\"P(D): {P_D:.4f}\")\n",
    "print(f\"P(A | D): {P_A_given_D:.4f}\")\n",
    "print(f\"P(B | D): {P_B_given_D:.4f}\")\n",
    "print(f\"P(C | D): {P_C_given_D:.4f}\")\n",
    "print(f\"P(A and B): {P_A_and_B:.4f}\")\n",
    "print(f\"P(A and C): {P_A_and_C:.4f}\")\n",
    "print(f\"P(B and C): {P_B_and_C:.4f}\")\n",
    "print(f\"P(A and D): {P_A_and_D:.4f}\")\n",
    "print(f\"P(B and D): {P_B_and_D:.4f}\")\n",
    "print(f\"P(C and D): {P_C_and_D:.4f}\")\n",
    "\n",
    "\n",
    "\n",
    "\n",
    "Q2 = 'B'\n",
    "#Since 𝑃(𝐵∣𝐷) P(B∣D) is the highest (0.9404), Glucose > 100 (B) contributes the most to high risk of diabetes."
   ]
  },
  {
   "cell_type": "markdown",
   "id": "c641a2bf-7add-415a-ae07-8e8d8f55fbcc",
   "metadata": {
    "deletable": false,
    "editable": false
   },
   "source": [
    "**Q3.** Now we will compute the covariance and correlation matrices from scratch. For this do not use any inbuilt functions. Follow the steps outlined below. Each step is graded."
   ]
  },
  {
   "cell_type": "markdown",
   "id": "e29ca493-d8c1-493b-a4f4-7e8f1cddc382",
   "metadata": {
    "deletable": false,
    "editable": false
   },
   "source": [
    "**Step1:** Convert the diabetesData dataframe into a 2-dimensional numpy array with the same number of rows and columns as in the dataframe. Name it diabetesX."
   ]
  },
  {
   "cell_type": "code",
   "execution_count": 53,
   "id": "147f70c4-d19d-4e77-b69b-170bc7da8e37",
   "metadata": {},
   "outputs": [
    {
     "name": "stdout",
     "output_type": "stream",
     "text": [
      "[[  1.     95.     74.    ...  25.9     0.673  36.   ]\n",
      " [  1.     95.     82.    ...  35.      0.233  43.   ]\n",
      " [  1.     90.     68.    ...  24.5     1.138  36.   ]\n",
      " ...\n",
      " [  4.    146.     78.    ...  38.5     0.52   67.   ]\n",
      " [ 15.    136.     70.    ...  37.1     0.153  43.   ]\n",
      " [ 10.    101.     86.    ...  45.6     1.136  38.   ]]\n"
     ]
    }
   ],
   "source": [
    "#TODO\n",
    "\n",
    "diabetesX = DiabetesDataTrain.iloc[:, :-1].values\n",
    "print(diabetesX)"
   ]
  },
  {
   "cell_type": "markdown",
   "id": "33652ee2-79f0-4908-9c97-7f8a22ce9c51",
   "metadata": {
    "deletable": false,
    "editable": false
   },
   "source": [
    "**Step2:** In diabetesX; center every column, by subtracting each column by the column mean and reassign it to diabetesX."
   ]
  },
  {
   "cell_type": "code",
   "execution_count": 54,
   "id": "8a106986-e334-49ea-9259-9b2f53d4f50a",
   "metadata": {},
   "outputs": [
    {
     "name": "stdout",
     "output_type": "stream",
     "text": [
      "[[-2.84711779e+00 -2.69598997e+01  5.17543860e+00 ... -6.24360902e+00\n",
      "   1.78518797e-01  3.07017544e+00]\n",
      " [-2.84711779e+00 -2.69598997e+01  1.31754386e+01 ...  2.85639098e+00\n",
      "  -2.61481203e-01  1.00701754e+01]\n",
      " [-2.84711779e+00 -3.19598997e+01 -8.24561404e-01 ... -7.64360902e+00\n",
      "   6.43518797e-01  3.07017544e+00]\n",
      " ...\n",
      " [ 1.52882206e-01  2.40401003e+01  9.17543860e+00 ...  6.35639098e+00\n",
      "   2.55187970e-02  3.40701754e+01]\n",
      " [ 1.11528822e+01  1.40401003e+01  1.17543860e+00 ...  4.95639098e+00\n",
      "  -3.41481203e-01  1.00701754e+01]\n",
      " [ 6.15288221e+00 -2.09598997e+01  1.71754386e+01 ...  1.34563910e+01\n",
      "   6.41518797e-01  5.07017544e+00]]\n"
     ]
    }
   ],
   "source": [
    "#TODO\n",
    "\n",
    "#After centering\n",
    "column_means = np.mean(diabetesX, axis=0)  # Compute mean of each column\n",
    "diabetesX = diabetesX - column_means  # Subtract mean from each column\n",
    "\n",
    "print(diabetesX)\n"
   ]
  },
  {
   "cell_type": "markdown",
   "id": "b7bd1da1-6bfd-4aac-a80a-24226faf45da",
   "metadata": {
    "deletable": false,
    "editable": false
   },
   "source": [
    "**Step3:** Compute the covariance matrix. Use, matrix operations in numpy such as matrix multiplication, matrix transpose and don't forget to average. Assign it to the variable cov."
   ]
  },
  {
   "cell_type": "code",
   "execution_count": 55,
   "id": "06799e49-de01-424a-a660-1503ac9a023a",
   "metadata": {},
   "outputs": [
    {
     "name": "stdout",
     "output_type": "stream",
     "text": [
      "[[ 1.18735532e+01  2.33682258e+01  7.79471921e+00 -1.81952998e+00\n",
      "  -1.62424844e+01  2.09211093e+00 -9.71825292e-02  2.10043198e+01]\n",
      " [ 2.33682258e+01  1.04683758e+03  4.82467160e+01  1.21447085e+01\n",
      "   1.38017328e+03  5.94032607e+01  1.29241130e+00  1.20067531e+02]\n",
      " [ 7.79471921e+00  4.82467160e+01  3.77446531e+02  6.41318434e+01\n",
      "   2.19169840e+02  3.36335493e+01 -1.68822401e-01  3.79826325e+01]\n",
      " [-1.81952998e+00  1.21447085e+01  6.41318434e+01  2.46339139e+02\n",
      "   8.49830071e+02  4.79656195e+01  8.24245910e-01 -1.91487702e+01]\n",
      " [-1.62424844e+01  1.38017328e+03  2.19169840e+02  8.49830071e+02\n",
      "   1.51876708e+04  1.87504933e+02  6.22014427e+00  4.35237151e+01]\n",
      " [ 2.09211093e+00  5.94032607e+01  3.36335493e+01  4.79656195e+01\n",
      "   1.87504933e+02  6.81425658e+01  3.35088259e-01  5.72869611e+00]\n",
      " [-9.71825292e-02  1.29241130e+00 -1.68822401e-01  8.24245910e-01\n",
      "   6.22014427e+00  3.35088259e-01  1.18123718e-01  1.49247421e-01]\n",
      " [ 2.10043198e+01  1.20067531e+02  3.79826325e+01 -1.91487702e+01\n",
      "   4.35237151e+01  5.72869611e+00  1.49247421e-01  1.30532751e+02]]\n"
     ]
    }
   ],
   "source": [
    "#TODO\n",
    "\n",
    "n_samples = diabetesX.shape[0]  # Number of samples\n",
    "cov = (diabetesX.T @ diabetesX) / (n_samples - 1)  # Covariance formula\n",
    "print(cov)\n"
   ]
  },
  {
   "cell_type": "markdown",
   "id": "3c55b04f-6ee0-4729-85ab-b0d798114ce7",
   "metadata": {
    "deletable": false,
    "editable": false
   },
   "source": [
    "**Step4:** Compute the matrix varmat, whose $(i, j)$ entry is $\\sqrt{var(i)var(j)}$, where $var(k)$ is the variance of the $k$th column of the diabetesX matrix. The varinces can be extracted from the covariance matrix itself appropriately and varmat can be computed by appropriate matrix multiplication of a column matrix and a row matrix."
   ]
  },
  {
   "cell_type": "code",
   "execution_count": 56,
   "id": "aabd144a-f091-4b1d-bf06-03fc574f8492",
   "metadata": {},
   "outputs": [
    {
     "name": "stdout",
     "output_type": "stream",
     "text": [
      "[1.18735532e+01 1.04683758e+03 3.77446531e+02 2.46339139e+02\n",
      " 1.51876708e+04 6.81425658e+01 1.18123718e-01 1.30532751e+02]\n"
     ]
    }
   ],
   "source": [
    "#TODO\n",
    "\n",
    "var = np.diag(cov)  # Extract variances from covariance matrix\n",
    "varmat = np.sqrt(np.outer(var, var))  # Compute sqrt(var(i) * var(j))\n",
    "print(var)\n"
   ]
  },
  {
   "cell_type": "markdown",
   "id": "ab33ea08-3037-45b1-918f-d0c737fc3725",
   "metadata": {
    "deletable": false,
    "editable": false
   },
   "source": [
    "**Step5:** Use the cov matrix and varmat matrix appropriately to compute the correlational matrix corr. And then use seaborn (sns imported above) to plot an annotated heatmap of the correlation matrix."
   ]
  },
  {
   "cell_type": "code",
   "execution_count": 57,
   "id": "62fc14db-d7f2-45dc-8ceb-919903ece94e",
   "metadata": {},
   "outputs": [
    {
     "name": "stdout",
     "output_type": "stream",
     "text": [
      "[[ 1.          0.20960215  0.11643469 -0.03364358 -0.03824869  0.07355041\n",
      "  -0.08205958  0.53352961]\n",
      " [ 0.20960215  1.          0.07675389  0.02391557  0.34613728  0.22241363\n",
      "   0.11622312  0.3248076 ]\n",
      " [ 0.11643469  0.07675389  1.          0.21031938  0.09153928  0.20971802\n",
      "  -0.0252833   0.17111875]\n",
      " [-0.03364358  0.02391557  0.21031938  1.          0.43935927  0.37021508\n",
      "   0.15279936 -0.10678603]\n",
      " [-0.03824869  0.34613728  0.09153928  0.43935927  1.          0.18431381\n",
      "   0.14685418  0.03091154]\n",
      " [ 0.07355041  0.22241363  0.20971802  0.37021508  0.18431381  1.\n",
      "   0.11810857  0.06074168]\n",
      " [-0.08205958  0.11622312 -0.0252833   0.15279936  0.14685418  0.11810857\n",
      "   1.          0.03800831]\n",
      " [ 0.53352961  0.3248076   0.17111875 -0.10678603  0.03091154  0.06074168\n",
      "   0.03800831  1.        ]]\n"
     ]
    },
    {
     "data": {
      "image/png": "[encoded data removed]",
      "text/plain": [
       "<Figure size 1000x800 with 2 Axes>"
      ]
     },
     "metadata": {},
     "output_type": "display_data"
    }
   ],
   "source": [
    "#TODO\n",
    "\n",
    "corr = cov / varmat  # Normalize covariance matrix\n",
    "print(corr)\n",
    "\n",
    "\n",
    "#Plot the heatmap.\n",
    "plt.figure(figsize=(10, 8))\n",
    "sns.heatmap(corr, annot=True, cmap='coolwarm', fmt=\".2f\", xticklabels=DiabetesDataTrain.columns[:-1], yticklabels=DiabetesDataTrain.columns[:-1])\n",
    "plt.title(\"Correlation Matrix Heatmap\")\n",
    "plt.show()"
   ]
  },
  {
   "cell_type": "markdown",
   "id": "76dabb96-e161-4c79-b8c5-c41d29fcb014",
   "metadata": {
    "deletable": false,
    "editable": false
   },
   "source": [
    "From the heatmap read the following correlations. Also, answer the question below."
   ]
  },
  {
   "cell_type": "code",
   "execution_count": 58,
   "id": "14101511-4957-4665-a712-4393e3c38355",
   "metadata": {},
   "outputs": [],
   "source": [
    "Corr1 = 0.0607  # Corr(BMI, Outcome)\n",
    "Corr2 = 0.3248  # Corr(Glucose, Outcome)\n",
    "Corr3 = 0.5335  # Corr(Pregnancies, Outcome)\n",
    "\n",
    "bestcorr = ['Pregnancies', 'Outcome']\n"
   ]
  },
  {
   "cell_type": "markdown",
   "id": "716b1e02-f080-4392-9381-608124de444f",
   "metadata": {
    "deletable": false,
    "editable": false
   },
   "source": [
    "## Section 2\n",
    "\n",
    "In this section we will train a logistic regression model on the diabetes dataset to predict the risk of diabetes given patient data. We will then use it to perform predictions on previously unseen (test) data."
   ]
  },
  {
   "cell_type": "markdown",
   "id": "a13b5fdb-2e48-427f-afde-876a8c9b53a3",
   "metadata": {
    "deletable": false,
    "editable": false
   },
   "source": [
    "**Q4.** Preprocess Data.\n",
    " \n",
    "Implement a function normalizeData that normalizes each column of a data array. Recall that a column $x$ is normalized by $z = \\frac{x - mean(x)}{std(x)}$. The function should return the normalized data matrix and the mean and standard deviations of each column (we'll need these to normalize the test data later)."
   ]
  },
  {
   "cell_type": "code",
   "execution_count": 59,
   "id": "e1819fc2-886d-4430-9e4a-bb5d6ef2b8bd",
   "metadata": {},
   "outputs": [],
   "source": [
    "\n",
    "\n",
    "def normalizeData(X, mean=np.array([]), std=np.array([])):\n",
    "    \"\"\"\n",
    "    Normalizes each column of the data matrix X.\n",
    "\n",
    "    If mean and std are provided, use them for normalization.\n",
    "    Otherwise, compute mean and std from X.\n",
    "\n",
    "    Parameters:\n",
    "    X (numpy.ndarray): Data matrix (each column is a feature).\n",
    "    mean (numpy.ndarray): Mean of each column (optional).\n",
    "    std (numpy.ndarray): Standard deviation of each column (optional).\n",
    "\n",
    "    Returns:\n",
    "    normalized_X (numpy.ndarray): Normalized data matrix.\n",
    "    mean (numpy.ndarray): Mean of each column.\n",
    "    std (numpy.ndarray): Standard deviation of each column.\n",
    "    \"\"\"\n",
    "\n",
    "    # If mean and std are not provided, compute them from X\n",
    "    if mean.size == 0:\n",
    "        mean = np.mean(X, axis=0)\n",
    "    if std.size == 0:\n",
    "        std = np.std(X, axis=0)\n",
    "\n",
    "    # Normalize the dataset\n",
    "    normalized_X = (X - mean) / std\n",
    "\n",
    "    return normalized_X, mean, std\n"
   ]
  },
  {
   "cell_type": "markdown",
   "id": "f0477700-8a5b-468f-b926-0cc0ad8d2100",
   "metadata": {
    "deletable": false,
    "editable": false
   },
   "source": [
    "**Q5.** Sigmoid function and it's derivative.\n",
    "\n",
    "1. Implement the sigmoid function. Given a numpy array, compute the sigmoid values of the array. It should return an array of sigmoid values. If you see any overflow errors/warnings popping up, that is because the numbers coming out of the exponential function $e^{-t}$ in the sigmoid function are too large to handle. In that case, please clip the input between some large enough negative and positive value (look into numpy.clip).\n",
    "2. Implement the derivative of the sigmoid function. Recall that if, $p = \\sigma(t)$, then $p' = p(1-p)$. The function should take in an array of $p$ values and then return the array of $p'$. \n"
   ]
  },
  {
   "cell_type": "code",
   "execution_count": 60,
   "id": "c7e3bf14-35f5-4f55-b73a-5b44f172c009",
   "metadata": {},
   "outputs": [],
   "source": [
    "#Sigmoid function\n",
    "def sigmoid(t):\n",
    "\n",
    "    #TODO\n",
    "\n",
    "    sig = 1 / (1 + np.exp(-t))\n",
    "    \n",
    "    return sig"
   ]
  },
  {
   "cell_type": "code",
   "execution_count": 61,
   "id": "77204775-8069-4447-a569-b04245b9375f",
   "metadata": {},
   "outputs": [],
   "source": [
    "#Derivative of sigmoid function\n",
    "def derivSigmoid(p):\n",
    "\n",
    "    #TODO\n",
    "\n",
    "    deriv_p = p * (1 - p)\n",
    "\n",
    "    return deriv_p"
   ]
  },
  {
   "cell_type": "markdown",
   "id": "db8406b3-543e-4ef5-8509-7dea6097593b",
   "metadata": {
    "deletable": false,
    "editable": false
   },
   "source": [
    "**Q6.** Compute sigmoid probabilities.\n",
    "\n",
    "Recall that $p = P(y = 1 | x) = \\sigma(x^T \\omega + b)$, where $\\omega = \\begin{bmatrix} \\omega_1 \\\\ \\omega_2 \\\\ \\vdots \\\\ \\omega_d \\end{bmatrix}$ are the weights and $b$ is the bias term. Implement a function sigProg to calculate those probabilities, given a matrix $X$ of data, weight vector $\\omega$ and bias $b$. It is possible to compute the array of probabilities for the entire dataset at once without a single for-loop, by just using matrix mutltiplications, which is the rightway to achieve maximum efficiency. You are supposed to use the above implemented sigmoid function. This should return an array of probabilities."
   ]
  },
  {
   "cell_type": "code",
   "execution_count": 62,
   "id": "c7184fb8-9f8d-4e4d-a8a5-64c28a529475",
   "metadata": {},
   "outputs": [],
   "source": [
    "def sigProg(X, w, b):\n",
    "    \"\"\"\n",
    "    Computes the sigmoid probabilities for logistic regression.\n",
    "\n",
    "    Parameters:\n",
    "    X (numpy.ndarray): Data matrix of shape (n_samples, n_features).\n",
    "    w (numpy.ndarray): Weight vector of shape (n_features,).\n",
    "    b (float): Bias term.\n",
    "\n",
    "    Returns:\n",
    "    numpy.ndarray: Array of probabilities (n_samples,).\n",
    "    \"\"\"\n",
    "\n",
    "    # Compute linear combination of inputs and weights\n",
    "    z = np.dot(X, w) + b\n",
    "\n",
    "    # Apply sigmoid function\n",
    "    p = sigmoid(z)\n",
    "\n",
    "    return p"
   ]
  },
  {
   "cell_type": "markdown",
   "id": "20f4c65d-042a-46d7-a59d-e57554bafa4a",
   "metadata": {
    "deletable": false,
    "editable": false
   },
   "source": [
    "**Q7.** Compute loss gradient.\n",
    "\n",
    "Recall that the loss function for logistic regression is given by,\n",
    "\n",
    "$L(\\omega, b) = \\frac{1}{N} \\sum\\limits_{i = 1}^{N} (p_i - y_i)^2 + \\lambda reg(\\omega)$ where is the sigmoid probability $p_i = P(y_i = 1 | x_i)$ for the data point $(x_i, y_i)$ and $reg(\\omega)$ is the regularization term - it could be either ridge $reg(\\omega) = ||\\omega||_2^2$ or lasso $reg(\\omega) = ||\\omega||_1$ or no regularization at all. $\\lambda \\geq 0$ is the regularization constant. $N$ is the number of datapoints.\n",
    "\n",
    "Then, the gradient of the loss function with respect to $\\omega$ and the derivative with respect to $b$ is given by,\n",
    "\n",
    "$\\nabla_{\\omega}L = \\frac{1}{N} \\sum\\limits_{i = 1}^{N} (p_i - y_i) p'_i x_i \\ + \\ \\lambda reg'(\\omega)$\n",
    "\n",
    "$\\frac{\\partial L}{\\partial b} = \\frac{1}{N} \\sum\\limits_{i = 1}^{N} (p_i - y_i) p'_i$\n",
    "\n",
    "Here,\n",
    "\n",
    "$reg'(\\omega) = \\begin{cases} \\omega \\; &\\textrm{ if ridge } \\\\ sign(\\omega) \\; &\\textrm{ if lasso } \\end{cases}$\n",
    "\n",
    "Implement a function named gradient to compute the gradient and derivative of the loss function, given data matrix $X$, output vector $y$, weight vector $\\omega$ and bias $b$. The function should also be able to take in other parameters such as reg (= \"none\", \"ridge\" or \"lasso\") and lambda. It should return the gradient and derivative. All these computations can be done without a single for loop, only by using numpy builtins for matrix computations, which is the most desired way to achieve efficiency "
   ]
  },
  {
   "cell_type": "code",
   "execution_count": 63,
   "id": "0b6cc7e1-0f7c-408e-84de-442e53d19ca0",
   "metadata": {},
   "outputs": [],
   "source": [
    "def gradient(X, y, w, b, reg=\"none\", Lambda=0.1):\n",
    "    \"\"\"\n",
    "    Computes the gradient of the loss function for logistic regression.\n",
    "\n",
    "    Parameters:\n",
    "    X (numpy.ndarray): Data matrix of shape (n_samples, n_features).\n",
    "    y (numpy.ndarray): True labels (n_samples,).\n",
    "    w (numpy.ndarray): Weight vector (n_features,).\n",
    "    b (float): Bias term.\n",
    "    reg (str): Regularization type - \"none\", \"ridge\", or \"lasso\".\n",
    "    Lambda (float): Regularization constant (default: 0.1).\n",
    "\n",
    "    Returns:\n",
    "    tuple: Gradient with respect to w (grad_w) and derivative with respect to b (deriv_b).\n",
    "    \"\"\"\n",
    "\n",
    "    # Compute predictions\n",
    "    p = sigProg(X, w, b)  # Get sigmoid probabilities\n",
    "\n",
    "    # Compute derivative of sigmoid function\n",
    "    deriv_p = derivSigmoid(p)\n",
    "\n",
    "    # Compute error term\n",
    "    error = (p - y) * deriv_p  # (n_samples,)\n",
    "\n",
    "    # Compute gradients\n",
    "    grad_w = (1 / X.shape[0]) * np.dot(X.T, error)  # (n_features,)\n",
    "    deriv_b = (1 / X.shape[0]) * np.sum(error)  # Scalar\n",
    "\n",
    "    # Apply regularization\n",
    "    if reg == \"ridge\":\n",
    "        grad_w += Lambda * w  # Ridge: L2 regularization\n",
    "    elif reg == \"lasso\":\n",
    "        grad_w += Lambda * np.sign(w)  # Lasso: L1 regularization\n",
    "\n",
    "    return grad_w, deriv_b\n"
   ]
  },
  {
   "cell_type": "markdown",
   "id": "b98327e0-e8ed-43b4-89a8-c1fb1767d274",
   "metadata": {
    "deletable": false,
    "editable": false
   },
   "source": [
    "**Q8.** Gradient descent algorithm.\n",
    "\n",
    "Recall the following update rule for gradient descent,\n",
    "\n",
    "$\\omega \\leftarrow \\omega - \\eta \\nabla_{\\omega} L$\n",
    "\n",
    "$b \\leftarrow b - \\eta \\frac{\\partial L}{\\partial b}$\n",
    "\n",
    "where $\\eta > 0$ is the learning rate.\n",
    "\n",
    "Implement the gradient descent algorithm in a function grad_descent given the gradient vector $\\nabla_{\\omega} L$ (grad_w), derivative $\\frac{\\partial L}{\\partial b}$ (deriv_b), weights $\\omega$ and bias $b$. Also should be able to accept the learning rate $\\eta$ (eta). The function should return the updated $\\omega$ and $b$."
   ]
  },
  {
   "cell_type": "code",
   "execution_count": 64,
   "id": "bea3ddb7-6adb-4a26-a720-bb7c442ef8b2",
   "metadata": {},
   "outputs": [],
   "source": [
    "def grad_descent(grad_w, deriv_b, w, b, eta=0.01):\n",
    "    \"\"\"\n",
    "    Performs a single step of gradient descent.\n",
    "\n",
    "    Parameters:\n",
    "    grad_w (numpy.ndarray): Gradient of the loss with respect to weights (n_features,).\n",
    "    deriv_b (float): Derivative of the loss with respect to bias.\n",
    "    w (numpy.ndarray): Current weight vector (n_features,).\n",
    "    b (float): Current bias term.\n",
    "    eta (float): Learning rate (default: 0.01).\n",
    "\n",
    "    Returns:\n",
    "    tuple: Updated weight vector w and bias b.\n",
    "    \"\"\"\n",
    "\n",
    "    # Update weights and bias\n",
    "    w = w - eta * grad_w\n",
    "    b = b - eta * deriv_b\n",
    "\n",
    "    return w, b\n"
   ]
  },
  {
   "cell_type": "markdown",
   "id": "e1ce15b6-54fe-40ac-862a-8e5b4d06584d",
   "metadata": {
    "deletable": false,
    "editable": false
   },
   "source": [
    "**Q9.** Train model\n",
    "\n",
    "Implement the function train. It should initialize $\\omega$ and $b$ to some random values or zeros. Then interatively update the $\\omega$ and $b$ using gradient descent, untill the number of interations reach the maximum number of interations specified as max_iter. The function will take in training data $(X, y)$, regularization details (type of reg, and $\\lambda$), and learning rate $\\eta$ (eta). Finally, it should return the trained $\\omega$ and $b$."
   ]
  },
  {
   "cell_type": "code",
   "execution_count": 88,
   "id": "3830aba7-f4f4-4f91-8098-73b9599571b6",
   "metadata": {},
   "outputs": [],
   "source": [
    "import numpy as np\n",
    "import matplotlib.pyplot as plt\n",
    "\n",
    "def train(X_train, y_train, reg_type, Lambda, eta, max_iter=1000):\n",
    "    n_samples, n_features = X_train.shape\n",
    "    w = np.zeros(n_features)\n",
    "    b = 0\n",
    "\n",
    "    loss_history = []\n",
    "    weight_norm_history = []\n",
    "\n",
    "    for i in range(max_iter):\n",
    "        # Compute logits\n",
    "        logits = np.dot(X_train, w) + b\n",
    "        y_pred = 1 / (1 + np.exp(-logits))  # Sigmoid function\n",
    "        \n",
    "        # Compute loss (Binary Cross-Entropy)\n",
    "        loss = -np.mean(y_train * np.log(y_pred + 1e-8) + (1 - y_train) * np.log(1 - y_pred + 1e-8))\n",
    "        loss_history.append(loss)\n",
    "\n",
    "        # Compute gradient\n",
    "        dw = np.dot(X_train.T, (y_pred - y_train)) / n_samples\n",
    "        db = np.mean(y_pred - y_train)\n",
    "\n",
    "        # Apply regularization\n",
    "        if reg_type == \"ridge\":\n",
    "            dw += Lambda * w  # Ridge (L2)\n",
    "        elif reg_type == \"lasso\":\n",
    "            dw += Lambda * np.sign(w)  # Lasso (L1)\n",
    "\n",
    "        # Update weights\n",
    "        w -= eta * dw\n",
    "        b -= eta * db\n",
    "\n",
    "        # Track weight norm\n",
    "        weight_norm_history.append(np.linalg.norm(w, 2))\n",
    "\n",
    "    return w, b, loss_history, weight_norm_history\n"
   ]
  },
  {
   "cell_type": "markdown",
   "id": "2586151b-5edc-4fe1-b34f-b51f2f01b4d6",
   "metadata": {
    "deletable": false,
    "editable": false
   },
   "source": [
    "**Q10.** Predict using the model\n",
    "\n",
    "Implement a function predict to output predictions for given input data $X$, trained weights $\\omega$ and $b$. Make sure that the output should only consist of $1$'s and $0$'s. The function should return the predictions $\\hat{y}$ (yhat)."
   ]
  },
  {
   "cell_type": "code",
   "execution_count": 89,
   "id": "e5db246b-cd53-4593-bc5a-4c7edefa8624",
   "metadata": {},
   "outputs": [],
   "source": [
    "def predict(X, w, b):\n",
    "    \"\"\"\n",
    "    Predict binary labels (0 or 1) using a trained logistic regression model.\n",
    "\n",
    "    Parameters:\n",
    "    X (numpy.ndarray): Feature matrix (n_samples, n_features).\n",
    "    w (numpy.ndarray): Trained weight vector.\n",
    "    b (float): Trained bias.\n",
    "\n",
    "    Returns:\n",
    "    numpy.ndarray: Predicted labels (0 or 1).\n",
    "    \"\"\"\n",
    "\n",
    "    # Compute sigmoid probabilities\n",
    "    p = sigmoid(np.dot(X, w) + b)\n",
    "\n",
    "    # Convert probabilities to binary predictions (threshold = 0.5)\n",
    "    yhat = (p >= 0.5).astype(int)\n",
    "\n",
    "    return yhat\n"
   ]
  },
  {
   "cell_type": "markdown",
   "id": "e5d4434d-102b-423c-a617-c208f5ae6654",
   "metadata": {
    "deletable": false,
    "editable": false
   },
   "source": [
    "**Q11.** Use the above logistic regression algorithm on the diabetes dataset. Train a model ($\\omega$, $b$). Then evaluate it. Use classification error to evaluate it.\n",
    "\n",
    "Start by separating the diabetesData into input (features) and output (Outcome), and store them in numpy matrices X_train and y_train respectively, and then normalizing the input features.\n",
    "\n",
    "Some tips to improve accuracy.\n",
    "\n",
    "1. Use cross validation to find the best hyperparameters $\\eta$, $\\lambda$, and regularization type.\n",
    "2. Plot the loss function versus iterations while training (you can do this by additionally collecting the loss values within the train function), having a smooth decreasing graph will indicate proper training.\n",
    "3. As above plot the $\\ell_2$-norm of the $\\omega$ vector versus iterations, we expect smooth decreasing curve for this as well.\n",
    "\n",
    "More tips and additional clarifications in class."
   ]
  },
  {
   "cell_type": "code",
   "execution_count": 90,
   "id": "9d1d8f29",
   "metadata": {},
   "outputs": [
    {
     "name": "stdout",
     "output_type": "stream",
     "text": [
      "(399, 8)\n",
      "(100, 8)\n"
     ]
    }
   ],
   "source": [
    "# Ensure X_test has the same columns as X_train\n",
    "X_train = DiabetesDataTrain.iloc[:, :-1].values  # All features except Outcome\n",
    "y_train = DiabetesDataTrain.iloc[:, -1].values   # Labels\n",
    "\n",
    "# Identify feature columns for training\n",
    "feature_columns = DiabetesDataTrain.columns[:-1]\n",
    "\n",
    "# Select only matching columns from test data\n",
    "X_test = DiabetesDataTest[feature_columns].values  # Ensure same features\n",
    "\n",
    "# Normalize features using training data statistics\n",
    "mean = X_train.mean(axis=0)\n",
    "std = X_train.std(axis=0)\n",
    "\n",
    "# Apply normalization\n",
    "X_train = (X_train - mean) / std\n",
    "X_test = (X_test - mean) / std  # Now, X_test has correct shape\n",
    "\n",
    "print(X_train.shape)  # Should match (399,8)\n",
    "print(X_test.shape)   # Should match (100,8)\n"
   ]
  },
  {
   "cell_type": "code",
   "execution_count": 93,
   "id": "9f677040-50b3-47ad-a5f8-9dc6b597dc40",
   "metadata": {},
   "outputs": [
    {
     "name": "stdout",
     "output_type": "stream",
     "text": [
      "Training Classification Error: 0.2556\n"
     ]
    }
   ],
   "source": [
    "# Best hyperparameters found using cross-validation\n",
    "best_eta = 0.01\n",
    "best_Lambda = 0.1\n",
    "best_reg = \"ridge\"\n",
    "\n",
    "# Train the final model while collecting loss and weight norms\n",
    "w, b, loss_history, weight_norm_history = train(X_train, y_train, best_reg, best_Lambda, best_eta, max_iter=1000)\n",
    "\n",
    "\n",
    "# Predict on test data\n",
    "y_pred_test = predict(X_test, w, b)\n",
    "\n",
    "# Classification Error on Training Data\n",
    "y_pred_train = predict(X_train, w, b)\n",
    "train_error = np.mean(y_pred_train != y_train)\n",
    "\n",
    "print(f\"Training Classification Error: {train_error:.4f}\")\n",
    "\n"
   ]
  },
  {
   "cell_type": "code",
   "execution_count": 94,
   "id": "60e8ee2e",
   "metadata": {},
   "outputs": [
    {
     "data": {
      "image/png": "[encoded data removed]",
      "text/plain": [
       "<Figure size 1200x500 with 2 Axes>"
      ]
     },
     "metadata": {},
     "output_type": "display_data"
    }
   ],
   "source": [
    "\n",
    "# Plot loss vs. iterations\n",
    "plt.figure(figsize=(12, 5))\n",
    "\n",
    "plt.subplot(1, 2, 1)\n",
    "plt.plot(loss_history, label=\"Loss\")\n",
    "plt.xlabel(\"Iterations\")\n",
    "plt.ylabel(\"Loss\")\n",
    "plt.title(\"Loss vs. Iterations\")\n",
    "plt.legend()\n",
    "plt.grid()\n",
    "\n",
    "# Plot weight norm vs. iterations\n",
    "plt.subplot(1, 2, 2)\n",
    "plt.plot(weight_norm_history, label=\"L2 Norm of Weights\", color='r')\n",
    "plt.xlabel(\"Iterations\")\n",
    "plt.ylabel(\"L2 Norm\")\n",
    "plt.title(\"Weight Norm vs. Iterations\")\n",
    "plt.legend()\n",
    "plt.grid()\n",
    "\n",
    "plt.show()\n"
   ]
  },
  {
   "cell_type": "markdown",
   "id": "523c2edf-e4f4-45ea-8efd-47eb11b1a8ca",
   "metadata": {
    "deletable": false,
    "editable": false
   },
   "source": [
    "**Q12.** Testing on previously unseen test data - final part.\n",
    "\n",
    "1. Load the DiabetesTest.csv file.\n",
    "2. Use your best trained model to predict the 'Outcome' for this test data, assign your predictions to y_test_pred, this should be an array of $0$'s and $1$'s.\n",
    "3. This will be graded on the level of accuracy of your predictions.\n",
    "4. Remember to properly normalize your data before using them in the model. For normalization use the mean and standard deviation of the training data not the test data.\n"
   ]
  },
  {
   "cell_type": "code",
   "execution_count": 99,
   "id": "75e6055e-00ce-48eb-bf80-fb1a391f9a94",
   "metadata": {},
   "outputs": [
    {
     "name": "stdout",
     "output_type": "stream",
     "text": [
      "Predictions for Test Data: [0 0 1 0 1 0 0 1 0 0 0 0 0 0 0 0 0 0 0 1 0 0 0 0 0 0 0 0 0 1 0 0 0 0 0 1 0\n",
      " 0 0 0 0 0 0 1 0 0 1 1 1 0 0 0 1 0 0 0 1 0 0 0 0 0 0 0 0 0 1 1 0 0 0 1 0 0\n",
      " 0 0 0 1 1 0 0 0 0 1 0 0 0 0 0 0 0 0 0 0 0 0 1 1 0 1]\n"
     ]
    }
   ],
   "source": [
    "#TODO\n",
    "\n",
    "# Load Test Data\n",
    "DiabetesTest = pd.read_csv(\"DiabetesTest.csv\")\n",
    "\n",
    "# Identify feature columns for training\n",
    "feature_columns = DiabetesDataTrain.columns[:-1]\n",
    "\n",
    "# Select only matching columns from test data\n",
    "X_test = DiabetesDataTest[feature_columns].values  # Ensure same features\n",
    "\n",
    "\n",
    "# Normalize Test Data using Training Mean & Std\n",
    "X_test = (X_test - mean) / std  # `mean` and `std` are from training data\n",
    "\n",
    "# Predict Outcomes using Trained Model\n",
    "y_test_pred = predict(X_test, w, b)  # `w` and `b` are from trained model\n",
    "\n",
    "# Output Result\n",
    "print(\"Predictions for Test Data:\", y_test_pred)"
   ]
  }
 ],
 "metadata": {
  "kernelspec": {
   "display_name": "Python 3 (ipykernel)",
   "language": "python",
   "name": "python3"
  },
  "language_info": {
   "codemirror_mode": {
    "name": "ipython",
    "version": 3
   },
   "file_extension": ".py",
   "mimetype": "text/x-python",
   "name": "python",
   "nbconvert_exporter": "python",
   "pygments_lexer": "ipython3",
   "version": "3.12.6"
  }
 },
 "nbformat": 4,
 "nbformat_minor": 5
}
